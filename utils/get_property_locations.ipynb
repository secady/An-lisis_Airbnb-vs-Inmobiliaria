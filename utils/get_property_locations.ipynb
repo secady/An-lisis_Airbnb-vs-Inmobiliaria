{
 "cells": [
  {
   "attachments": {},
   "cell_type": "markdown",
   "metadata": {},
   "source": [
    "### Este código lo utilicé para extraer la dirección completa de cada ubicación de 102.800 alojamientos Airbnb"
   ]
  },
  {
   "cell_type": "code",
   "execution_count": null,
   "metadata": {},
   "outputs": [],
   "source": [
    "import time\n",
    "import pandas as pd\n"
   ]
  },
  {
   "cell_type": "code",
   "execution_count": null,
   "metadata": {},
   "outputs": [],
   "source": [
    "properties_es = pd.read_csv(\"../notebooks/Datasets_clean/properties_es.csv\")\n",
    "properties_es = properties_es.drop(\"Unnamed: 0\", axis=1)\n",
    "properties_es"
   ]
  },
  {
   "cell_type": "code",
   "execution_count": null,
   "metadata": {},
   "outputs": [],
   "source": [
    "from geopy.geocoders import Nominatim\n",
    "\n",
    "for i in range(1, 103):\n",
    "\n",
    "    # initialize Nominatim API\n",
    "    geolocator = Nominatim(user_agent=\"geoapiExercises\")\n",
    "\n",
    "    start_row = 1 + (i-1)*1000\n",
    "    end_row = 1 + i*1000\n",
    "    loc = properties_es.iloc[start_row:end_row, :]\n",
    "\n",
    "    # Latitude & Longitude input\n",
    "    latitudes = loc[\"latitude\"]\n",
    "    longitudes = loc[\"longitude\"]\n",
    "\n",
    "    locations = []\n",
    "    for lat, lon in zip(latitudes, longitudes):\n",
    "        location = geolocator.reverse(f\"{lat}, {lon}\", timeout=None)\n",
    "        locations.append(location)\n",
    "\n",
    "    # Convert locations to strings and remove parentheses\n",
    "    locations_convert = [str(loc).replace('(', '').replace(')', '') for loc in locations]\n",
    "\n",
    "    # Display and save to CSV\n",
    "    loc[\"location_geo\"] = locations_convert\n",
    "    filename = f\"prop_es_loc_{i+1}.csv\"  # Increment filename by 10\n",
    "    loc.to_csv(f\"../notebooks/Datasets_location/{filename}\", index=False, encoding=\"utf-8\")\n",
    "    print(f\"Data saved to {filename}\")\n",
    "\n",
    "    # Sleep for 2 seconds\n",
    "    time.sleep(2)\n"
   ]
  }
 ],
 "metadata": {
  "interpreter": {
   "hash": "7c77fdb427e7cbc9bc1367dd530fc2b36aacdbbde1ac83c85833b10dfa8b831c"
  },
  "kernelspec": {
   "display_name": "Python 3.7.4 64-bit",
   "language": "python",
   "name": "python3"
  },
  "language_info": {
   "codemirror_mode": {
    "name": "ipython",
    "version": 3
   },
   "file_extension": ".py",
   "mimetype": "text/x-python",
   "name": "python",
   "nbconvert_exporter": "python",
   "pygments_lexer": "ipython3",
   "version": "3.9.16"
  },
  "orig_nbformat": 4
 },
 "nbformat": 4,
 "nbformat_minor": 2
}
