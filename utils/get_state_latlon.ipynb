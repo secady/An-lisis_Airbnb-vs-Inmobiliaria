{
 "cells": [
  {
   "attachments": {},
   "cell_type": "markdown",
   "metadata": {},
   "source": [
    "### Este código lo utilicé para extraer los latitudes y longitudes de cada comunidad autónoma y los pinté en el mapa"
   ]
  },
  {
   "cell_type": "code",
   "execution_count": 1,
   "metadata": {},
   "outputs": [],
   "source": [
    "import pandas as pd"
   ]
  },
  {
   "cell_type": "code",
   "execution_count": null,
   "metadata": {},
   "outputs": [],
   "source": [
    "listing_address_es = pd.read_csv(\"../data/listing_address_es.csv\")\n",
    "listing_address_es"
   ]
  },
  {
   "cell_type": "code",
   "execution_count": null,
   "metadata": {},
   "outputs": [],
   "source": [
    "prop_state = listing_address_es.groupby(\"state\")[\"id\"].count().to_frame().sort_values(by=\"id\", ascending=False).reset_index()\n",
    "prop_state"
   ]
  },
  {
   "cell_type": "code",
   "execution_count": null,
   "metadata": {},
   "outputs": [],
   "source": [
    "prop_state = prop_state.rename({\"id\" : \"num_properties\"}, axis=1)\n",
    "prop_state"
   ]
  },
  {
   "cell_type": "code",
   "execution_count": null,
   "metadata": {},
   "outputs": [],
   "source": [
    "from geopy.geocoders import Nominatim\n",
    "\n",
    "# Get latitude and longitude values for each state\n",
    "geolocator = Nominatim(user_agent='my_app')\n",
    "prop_state['location'] = prop_state['state'].apply(lambda x: geolocator.geocode(x))\n",
    "\n",
    "prop_state['latitude'] = prop_state['location'].apply(lambda x: x.latitude if x else None)\n",
    "prop_state['longitude'] = prop_state['location'].apply(lambda x: x.longitude if x else None)\n",
    "\n",
    "# Drop 'location' column\n",
    "prop_state = prop_state.drop(columns=['location'])\n",
    "\n",
    "prop_state"
   ]
  },
  {
   "cell_type": "code",
   "execution_count": null,
   "metadata": {},
   "outputs": [],
   "source": [
    "# # Guardamos el CSV con información de latitudes y longitudes de cada comunidad\n",
    "\n",
    "# prop_state.to_csv(\"../data/prop_state.csv\", encoding=\"utf-8\")"
   ]
  }
 ],
 "metadata": {
  "interpreter": {
   "hash": "7c77fdb427e7cbc9bc1367dd530fc2b36aacdbbde1ac83c85833b10dfa8b831c"
  },
  "kernelspec": {
   "display_name": "Python 3.7.4 64-bit",
   "language": "python",
   "name": "python3"
  },
  "language_info": {
   "codemirror_mode": {
    "name": "ipython",
    "version": 3
   },
   "file_extension": ".py",
   "mimetype": "text/x-python",
   "name": "python",
   "nbconvert_exporter": "python",
   "pygments_lexer": "ipython3",
   "version": "3.9.16"
  },
  "orig_nbformat": 4
 },
 "nbformat": 4,
 "nbformat_minor": 2
}
